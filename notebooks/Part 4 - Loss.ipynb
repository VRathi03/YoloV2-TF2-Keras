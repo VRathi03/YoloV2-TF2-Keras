{
 "cells": [
  {
   "cell_type": "code",
   "execution_count": 1,
   "metadata": {},
   "outputs": [
    {
     "name": "stdout",
     "output_type": "stream",
     "text": [
      "3.7.9 (default, Aug 31 2020, 12:42:55) \n",
      "[GCC 7.3.0]\n"
     ]
    }
   ],
   "source": [
    "import matplotlib.pyplot as plt\n",
    "import numpy as np\n",
    "import os, sys\n",
    "import tensorflow as tf\n",
    "print(sys.version)\n",
    "%matplotlib inline"
   ]
  },
  {
   "cell_type": "code",
   "execution_count": 5,
   "metadata": {},
   "outputs": [
    {
     "name": "stdout",
     "output_type": "stream",
     "text": [
      "2.3.1\n"
     ]
    }
   ],
   "source": [
    "print(tf.__version__)"
   ]
  },
  {
   "cell_type": "code",
   "execution_count": 4,
   "metadata": {},
   "outputs": [],
   "source": [
    "# ! pip install --upgrade tensorflow-gpu"
   ]
  },
  {
   "cell_type": "code",
   "execution_count": 6,
   "metadata": {},
   "outputs": [],
   "source": [
    "ANCHORS = np.array([1.07709888,  1.78171903,  # anchor box 1, width , height\n",
    "                    2.71054693,  5.12469308,  # anchor box 2, width,  height\n",
    "                   10.47181473, 10.09646365,  # anchor box 3, width,  height\n",
    "                    5.48531347,  8.11011331]) # anchor box 4, width,  height"
   ]
  },
  {
   "cell_type": "code",
   "execution_count": 7,
   "metadata": {},
   "outputs": [],
   "source": [
    "LABELS = ['aeroplane',  'bicycle', 'bird',  'boat',      'bottle', \n",
    "          'bus',        'car',      'cat',  'chair',     'cow',\n",
    "          'diningtable','dog',    'horse',  'motorbike', 'person',\n",
    "          'pottedplant','sheep',  'sofa',   'train',   'tvmonitor']"
   ]
  },
  {
   "cell_type": "code",
   "execution_count": 8,
   "metadata": {},
   "outputs": [
    {
     "name": "stdout",
     "output_type": "stream",
     "text": [
      "N train = 22263\n"
     ]
    }
   ],
   "source": [
    "train_image_folder = \"/media/vkr/VKR/WorkSpace/Deep Learning Projects/yolov2/data/processed/VOC2012/JPEGImages/\"\n",
    "train_annot_folder = \"/media/vkr/VKR/WorkSpace/Deep Learning Projects/yolov2/data/processed/VOC2012/Annotations/\"\n",
    "\n",
    "np.random.seed(1)\n",
    "from backend import parse_annotation\n",
    "train_image, seen_train_labels = parse_annotation(train_annot_folder,\n",
    "                                                  train_image_folder, \n",
    "                                                  labels=LABELS)\n",
    "print(\"N train = {}\".format(len(train_image)))"
   ]
  },
  {
   "cell_type": "code",
   "execution_count": 16,
   "metadata": {},
   "outputs": [],
   "source": [
    "from backend import SimpleBatchGenerator\n",
    "\n",
    "BATCH_SIZE        = 2\n",
    "IMAGE_H, IMAGE_W  = 416, 416\n",
    "GRID_H,  GRID_W   = 13 , 13\n",
    "TRUE_BOX_BUFFER   = 50\n",
    "BOX               = int(len(ANCHORS)/2)\n",
    "# CLASS             = len(LABELS)\n",
    "\n",
    "generator_config = {\n",
    "    'IMAGE_H'         : IMAGE_H, \n",
    "    'IMAGE_W'         : IMAGE_W,\n",
    "    'GRID_H'          : GRID_H,  \n",
    "    'GRID_W'          : GRID_W,\n",
    "    'LABELS'          : LABELS,\n",
    "    'ANCHORS'         : ANCHORS,\n",
    "    'BATCH_SIZE'      : BATCH_SIZE,\n",
    "    'TRUE_BOX_BUFFER' : TRUE_BOX_BUFFER,\n",
    "}\n",
    "\n",
    "\n",
    "def normalize(image):\n",
    "    return image / 255.\n",
    "train_batch_generator = SimpleBatchGenerator(train_image, generator_config,\n",
    "                                             norm=normalize, shuffle=True)\n",
    "\n",
    "[x_batch,b_batch],y_batch = train_batch_generator.__getitem__(idx=3)\n"
   ]
  },
  {
   "cell_type": "code",
   "execution_count": 17,
   "metadata": {},
   "outputs": [],
   "source": [
    "LAMBDA_NO_OBJECT = 1.0\n",
    "LAMBDA_OBJECT    = 5.0\n",
    "LAMBDA_COORD     = 1.0\n",
    "LAMBDA_CLASS     = 1.0"
   ]
  },
  {
   "cell_type": "code",
   "execution_count": 18,
   "metadata": {},
   "outputs": [],
   "source": [
    "def get_cell_grid(GRID_W,GRID_H,BATCH_SIZE,BOX): \n",
    "    '''\n",
    "    Helper function to assure that the bounding box x and y are in the grid cell scale\n",
    "    == output == \n",
    "    for any i=0,1..,batch size - 1\n",
    "    output[i,5,3,:,:] = array([[3., 5.],\n",
    "                               [3., 5.],\n",
    "                               [3., 5.]], dtype=float32)\n",
    "    '''\n",
    "    ## cell_x.shape = (1, 13, 13, 1, 1)\n",
    "    ## cell_x[:,i,j,:] = [[[j]]]\n",
    "    cell_x = tf.cast(tf.reshape(tf.tile(tf.range(GRID_W), [GRID_H]), (1, GRID_H, GRID_W, 1, 1)), tf.float32)\n",
    "    # tf.cast(num, tf.float32)\n",
    "    ## cell_y.shape = (1, 13, 13, 1, 1)\n",
    "    ## cell_y[:,i,j,:] = [[[i]]]\n",
    "    cell_y = tf.transpose(cell_x, (0,2,1,3,4))\n",
    "    ## cell_gird.shape = (16, 13, 13, 5, 2)\n",
    "    ## for any n, k, i, j\n",
    "    ##    cell_grid[n, i, j, anchor, k] = j when k = 0\n",
    "    ## for any n, k, i, j\n",
    "    ##    cell_grid[n, i, j, anchor, k] = i when k = 1    \n",
    "    cell_grid = tf.tile(tf.concat([cell_x,cell_y], -1), [BATCH_SIZE, 1, 1, BOX, 1])\n",
    "    return(cell_grid) \n",
    "\n",
    "def adjust_scale_prediction(y_pred, cell_grid, ANCHORS):    \n",
    "    \"\"\"\n",
    "        Adjust prediction\n",
    "        \n",
    "        == input ==\n",
    "        \n",
    "        y_pred : takes any real values\n",
    "                 tensor of shape = (N batch, NGrid h, NGrid w, NAnchor, 4 + 1 + N class)\n",
    "        \n",
    "        ANCHORS : list containing width and height specializaiton of anchor box\n",
    "        == output ==\n",
    "        \n",
    "        pred_box_xy : shape = (N batch, N grid x, N grid y, N anchor, 2), contianing [center_y, center_x] rangining [0,0]x[grid_H-1,grid_W-1]\n",
    "          pred_box_xy[irow,igrid_h,igrid_w,ianchor,0] =  center_x\n",
    "          pred_box_xy[irow,igrid_h,igrid_w,ianchor,1] =  center_1\n",
    "          \n",
    "          calculation process:\n",
    "          tf.sigmoid(y_pred[...,:2]) : takes values between 0 and 1\n",
    "          tf.sigmoid(y_pred[...,:2]) + cell_grid : takes values between 0 and grid_W - 1 for x coordinate \n",
    "                                                   takes values between 0 and grid_H - 1 for y coordinate \n",
    "                                                   \n",
    "        pred_Box_wh : shape = (N batch, N grid h, N grid w, N anchor, 2), containing width and height, rangining [0,0]x[grid_H-1,grid_W-1]\n",
    "        \n",
    "        pred_box_conf : shape = (N batch, N grid h, N grid w, N anchor, 1), containing confidence to range between 0 and 1\n",
    "        \n",
    "        pred_box_class : shape = (N batch, N grid h, N grid w, N anchor, N class), containing \n",
    "    \"\"\"\n",
    "    BOX = int(len(ANCHORS)/2)\n",
    "    ## cell_grid is of the shape of \n",
    "    \n",
    "    ### adjust x and y  \n",
    "    # the bounding box bx and by are rescaled to range between 0 and 1 for given gird.\n",
    "    # Since there are BOX x BOX grids, we rescale each bx and by to range between 0 to BOX + 1\n",
    "    pred_box_xy = tf.sigmoid(y_pred[..., :2]) + cell_grid # bx, by\n",
    "    \n",
    "    ### adjust w and h\n",
    "    # exp to make width and height positive\n",
    "    # rescale each grid to make some anchor \"good\" at representing certain shape of bounding box \n",
    "    pred_box_wh = tf.exp(y_pred[..., 2:4]) * np.reshape(ANCHORS,[1,1,1,BOX,2]) # bw, bh\n",
    "\n",
    "    ### adjust confidence \n",
    "    pred_box_conf = tf.sigmoid(y_pred[..., 4])# prob bb\n",
    "\n",
    "    ### adjust class probabilities \n",
    "    pred_box_class = y_pred[..., 5:] # prC1, prC2, ..., prC20\n",
    "    \n",
    "    return(pred_box_xy,pred_box_wh,pred_box_conf,pred_box_class)\n"
   ]
  },
  {
   "cell_type": "code",
   "execution_count": 19,
   "metadata": {},
   "outputs": [
    {
     "name": "stdout",
     "output_type": "stream",
     "text": [
      "******************************\n",
      "prepare inputs\n",
      "y_pred before scaling = (2, 13, 13, 4, 25)\n",
      "******************************\n",
      "define tensor graph\n",
      "******************************\n",
      "ouput\n",
      "******************************\n",
      "\n",
      "pred_box_xy (2, 13, 13, 4, 2)\n",
      "  bounding box x at iGRID_W=00 MIN= 0.47, MAX= 0.53\n",
      "  bounding box x at iGRID_W=01 MIN= 1.47, MAX= 1.53\n",
      "  bounding box x at iGRID_W=02 MIN= 2.46, MAX= 2.53\n",
      "  bounding box x at iGRID_W=03 MIN= 3.45, MAX= 3.53\n",
      "  bounding box x at iGRID_W=04 MIN= 4.47, MAX= 4.54\n",
      "  bounding box x at iGRID_W=05 MIN= 5.47, MAX= 5.53\n",
      "  bounding box x at iGRID_W=06 MIN= 6.46, MAX= 6.53\n",
      "  bounding box x at iGRID_W=07 MIN= 7.47, MAX= 7.55\n",
      "  bounding box x at iGRID_W=08 MIN= 8.47, MAX= 8.53\n",
      "  bounding box x at iGRID_W=09 MIN= 9.46, MAX= 9.53\n",
      "  bounding box x at iGRID_W=10 MIN=10.46, MAX=10.53\n",
      "  bounding box x at iGRID_W=11 MIN=11.46, MAX=11.54\n",
      "  bounding box x at iGRID_W=12 MIN=12.46, MAX=12.54\n",
      "  bounding box y at iGRID_H=00 MIN= 0.47, MAX= 0.53\n",
      "  bounding box y at iGRID_H=01 MIN= 1.46, MAX= 1.53\n",
      "  bounding box y at iGRID_H=02 MIN= 2.47, MAX= 2.56\n",
      "  bounding box y at iGRID_H=03 MIN= 3.46, MAX= 3.54\n",
      "  bounding box y at iGRID_H=04 MIN= 4.46, MAX= 4.53\n",
      "  bounding box y at iGRID_H=05 MIN= 5.46, MAX= 5.55\n",
      "  bounding box y at iGRID_H=06 MIN= 6.47, MAX= 6.54\n",
      "  bounding box y at iGRID_H=07 MIN= 7.47, MAX= 7.54\n",
      "  bounding box y at iGRID_H=08 MIN= 8.45, MAX= 8.54\n",
      "  bounding box y at iGRID_H=09 MIN= 9.46, MAX= 9.53\n",
      "  bounding box y at iGRID_H=10 MIN=10.47, MAX=10.53\n",
      "  bounding box y at iGRID_H=11 MIN=11.47, MAX=11.54\n",
      "  bounding box y at iGRID_H=12 MIN=12.47, MAX=12.53\n",
      "\n",
      "pred_box_wh (2, 13, 13, 4, 2)\n",
      "  bounding box width  MIN= 0.90, MAX=12.23\n",
      "  bounding box height MIN= 1.54, MAX=11.89\n",
      "\n",
      "pred_box_conf (2, 13, 13, 4)\n",
      "  confidence  MIN= 0.45, MAX= 0.56\n",
      "\n",
      "pred_box_class (2, 13, 13, 4, 20)\n",
      "  class probability MIN=-0.23, MAX= 0.26\n"
     ]
    }
   ],
   "source": [
    "def print_min_max(vec,title):\n",
    "    try:\n",
    "        print(\"{} MIN={:5.2f}, MAX={:5.2f}\".format(\n",
    "            title, np.min(vec),np.max(vec)))\n",
    "    except ValueError:  #raised if `y` is empty.\n",
    "        pass\n",
    "\n",
    "print(\"*\"*30)\n",
    "print(\"prepare inputs\")\n",
    "GRID_W = 13 \n",
    "GRID_H = 13 \n",
    "BOX    = int(len(ANCHORS)/2)\n",
    "CLASS = len(LABELS)\n",
    "size   = BATCH_SIZE*GRID_W*GRID_H*BOX*(4 + 1 + CLASS)\n",
    "y_pred = np.random.normal(size=size,scale = 10/(GRID_H*GRID_W)) \n",
    "y_pred = y_pred.reshape(BATCH_SIZE,GRID_H,GRID_W,BOX,4 + 1 + CLASS)\n",
    "print(\"y_pred before scaling = {}\".format(y_pred.shape))\n",
    "\n",
    "print(\"*\"*30)\n",
    "print(\"define tensor graph\")\n",
    "y_pred_tf = tf.constant(y_pred,dtype=\"float32\")\n",
    "cell_grid = get_cell_grid(GRID_W,GRID_H,BATCH_SIZE,BOX)\n",
    "\n",
    "(pred_box_xy,   pred_box_wh, \n",
    " pred_box_conf, pred_box_class) = adjust_scale_prediction(y_pred_tf, \n",
    "                                                                cell_grid, \n",
    "                                                                ANCHORS)\n",
    "print(\"*\"*30 + \"\\nouput\\n\" + \"*\"*30) \n",
    "# with tf.Session() as sess:\n",
    "#     (pred_box_xy, pred_box_wh, pred_box_conf, pred_box_class) = sess.run([pred_box_xy_tf,   pred_box_wh_tf, pred_box_conf_tf, pred_box_class_tf])\n",
    "    \n",
    "print(\"\\npred_box_xy {}\".format(pred_box_xy.shape))           \n",
    "\n",
    "for igrid_w in range(pred_box_xy.shape[2]):\n",
    "        print_min_max(pred_box_xy[:,:,igrid_w,:,0],\n",
    "                      \"  bounding box x at iGRID_W={:02.0f}\".format(igrid_w))\n",
    "for igrid_h in range(pred_box_xy.shape[1]):\n",
    "    print_min_max(pred_box_xy[:,igrid_h,:,:,1],\n",
    "                  \"  bounding box y at iGRID_H={:02.0f}\".format(igrid_h)) \n",
    "    \n",
    "print(\"\\npred_box_wh {}\".format(pred_box_wh.shape))\n",
    "print_min_max(pred_box_wh[:,:,:,:,0],\"  bounding box width \") \n",
    "print_min_max(pred_box_wh[:,:,:,:,1],\"  bounding box height\") \n",
    "    \n",
    "print(\"\\npred_box_conf {}\".format(pred_box_conf.shape))\n",
    "print_min_max(pred_box_conf,\"  confidence \") \n",
    "\n",
    "print(\"\\npred_box_class {}\".format(pred_box_class.shape))\n",
    "print_min_max(pred_box_class,\"  class probability\") \n"
   ]
  },
  {
   "cell_type": "markdown",
   "metadata": {},
   "source": [
    "## Step 2: Extract ground truth output"
   ]
  },
  {
   "cell_type": "code",
   "execution_count": 20,
   "metadata": {},
   "outputs": [],
   "source": [
    "def extract_ground_truth(y_true):    \n",
    "    true_box_xy    = y_true[..., 0:2] # bounding box x, y coordinate in grid cell scale \n",
    "    true_box_wh    = y_true[..., 2:4] # number of cells accross, horizontally and vertically\n",
    "    true_box_conf  = y_true[...,4]    # confidence \n",
    "    true_box_class = tf.argmax(y_true[..., 5:], -1)\n",
    "    return(true_box_xy, true_box_wh, true_box_conf, true_box_class)"
   ]
  },
  {
   "cell_type": "code",
   "execution_count": 21,
   "metadata": {},
   "outputs": [
    {
     "name": "stdout",
     "output_type": "stream",
     "text": [
      "Input y_batch = (2, 13, 13, 4, 25)\n",
      "******************************\n",
      "ouput\n",
      "******************************\n",
      "\n",
      "true_box_xy (2, 13, 13, 4, 2)\n",
      "  bounding box x at iGRID_W=00 MIN= 0.36, MAX= 0.36\n",
      "  bounding box x at iGRID_W=04 MIN= 4.14, MAX= 4.22\n",
      "  bounding box x at iGRID_W=05 MIN= 5.20, MAX= 5.81\n",
      "  bounding box x at iGRID_W=06 MIN= 6.89, MAX= 6.89\n",
      "  bounding box x at iGRID_W=07 MIN= 7.16, MAX= 7.48\n",
      "  bounding box x at iGRID_W=09 MIN= 9.84, MAX= 9.84\n",
      "  bounding box x at iGRID_W=11 MIN=11.50, MAX=11.50\n",
      "  bounding box y at iGRID_H=05 MIN= 5.34, MAX= 5.36\n",
      "  bounding box y at iGRID_H=06 MIN= 6.05, MAX= 6.05\n",
      "  bounding box y at iGRID_H=07 MIN= 7.02, MAX= 7.41\n",
      "  bounding box y at iGRID_H=08 MIN= 8.70, MAX= 8.70\n",
      "  bounding box y at iGRID_H=10 MIN=10.05, MAX=10.05\n",
      "  bounding box y at iGRID_H=11 MIN=11.31, MAX=11.31\n",
      "  bounding box y at iGRID_H=12 MIN=12.20, MAX=12.20\n",
      "\n",
      "true_box_wh (2, 13, 13, 4, 2)\n",
      "  bounding box width  MIN= 0.00, MAX=10.41\n",
      "  bounding box height MIN= 0.00, MAX=11.47\n",
      "\n",
      "true_box_conf (2, 13, 13, 4)\n",
      "  confidence, unique value = [0. 1.]\n",
      "\n",
      "true_box_class (2, 13, 13, 4)\n",
      "  class index, unique value = [ 0 11 16]\n"
     ]
    }
   ],
   "source": [
    "# y_batch is the output of the simpleBatchGenerator.fit()\n",
    "print(\"Input y_batch = {}\".format(y_batch.shape))\n",
    "\n",
    "y_batch_tf = tf.constant(y_batch,dtype=\"float32\")\n",
    "(true_box_xy, true_box_wh, \n",
    " true_box_conf, true_box_class) = extract_ground_truth(y_batch_tf)\n",
    "\n",
    "print(\"*\"*30 + \"\\nouput\\n\" + \"*\"*30) \n",
    "\n",
    "# with tf.Session() as sess:\n",
    "#         (true_box_xy, true_box_wh, \n",
    "#          true_box_conf, true_box_class) = sess.run(\n",
    "#                     [true_box_xy_tf,   true_box_wh_tf, \n",
    "#                      true_box_conf_tf, true_box_class_tf])\n",
    "\n",
    "print(\"\\ntrue_box_xy {}\".format(true_box_xy.shape))        \n",
    "for igrid_w in range(true_box_xy.shape[2]):\n",
    "    vec  = true_box_xy[:,:,igrid_w,:,0]\n",
    "    pick = true_box_conf[:,:,igrid_w,:] == 1 ## only pick C_ij = 1\n",
    "    print_min_max(vec[pick],\"  bounding box x at iGRID_W={:02.0f}\".format(igrid_w))\n",
    "    \n",
    "for igrid_h in range(true_box_xy.shape[1]):\n",
    "    vec  = true_box_xy[:,igrid_h,:,:,1]\n",
    "    pick = true_box_conf[:,igrid_h,:,:] == 1 ## only pick C_ij = 1\n",
    "    print_min_max(vec[pick],\"  bounding box y at iGRID_H={:02.0f}\".format(igrid_h)) \n",
    "    \n",
    "print(\"\\ntrue_box_wh {}\".format(true_box_wh.shape))\n",
    "print_min_max(true_box_wh[:,:,:,:,0],\"  bounding box width \") \n",
    "print_min_max(true_box_wh[:,:,:,:,1],\"  bounding box height\") \n",
    "    \n",
    "print(\"\\ntrue_box_conf {}\".format(true_box_conf.shape))\n",
    "print(\"  confidence, unique value = {}\".format(np.unique(true_box_conf))) \n",
    "\n",
    "print(\"\\ntrue_box_class {}\".format(true_box_class.shape))\n",
    "print(\"  class index, unique value = {}\".format(np.unique(true_box_class)) )\n"
   ]
  },
  {
   "cell_type": "markdown",
   "metadata": {},
   "source": [
    "## Step 3: calculate lossxywhi,j"
   ]
  },
  {
   "cell_type": "code",
   "execution_count": 29,
   "metadata": {},
   "outputs": [],
   "source": [
    "def calc_loss_xywh(true_box_conf,\n",
    "                   COORD_SCALE,\n",
    "                   true_box_xy, pred_box_xy,true_box_wh,pred_box_wh):  \n",
    "    '''\n",
    "    coord_mask:      np.array of shape (Nbatch, Ngrid h, N grid w, N anchor, 1)\n",
    "                     lambda_{coord} L_{i,j}^{obj}     \n",
    "                         \n",
    "    '''\n",
    "    \n",
    "    # lambda_{coord} L_{i,j}^{obj} \n",
    "    # np.array of shape (Nbatch, Ngrid h, N grid w, N anchor, 1)\n",
    "    coord_mask  = tf.expand_dims(true_box_conf, axis=-1) * COORD_SCALE \n",
    "    nb_coord_box = tf.reduce_sum(tf.cast(coord_mask > 0.0, tf.float32))\n",
    "    \n",
    "    loss_xy      = tf.reduce_sum(tf.square(true_box_xy-pred_box_xy) * coord_mask) / (nb_coord_box + 1e-6) / 2.\n",
    "    loss_wh      = tf.reduce_sum(tf.square(true_box_wh-pred_box_wh) * coord_mask) / (nb_coord_box + 1e-6) / 2.\n",
    "    return(loss_xy + loss_wh, coord_mask)"
   ]
  },
  {
   "cell_type": "code",
   "execution_count": 30,
   "metadata": {},
   "outputs": [
    {
     "name": "stdout",
     "output_type": "stream",
     "text": [
      "******************************\n",
      "ouput\n",
      "******************************\n",
      "loss_xywh = 2.542\n"
     ]
    }
   ],
   "source": [
    "# Experiment calc_loss_xywh\n",
    "\n",
    "LAMBDA_COORD = 1\n",
    "loss_xywh, coord_mask  = calc_loss_xywh(true_box_conf,LAMBDA_COORD,\n",
    "                                               true_box_xy, pred_box_xy,true_box_wh,pred_box_wh)\n",
    "\n",
    "print(\"*\"*30 + \"\\nouput\\n\" + \"*\"*30) \n",
    "\n",
    "# with tf.Session() as sess:\n",
    "#         loss_xywh = sess.run([loss_xywh_tf])[0]\n",
    "print(\"loss_xywh = {:4.3f}\".format(loss_xywh))\n"
   ]
  },
  {
   "cell_type": "markdown",
   "metadata": {},
   "source": [
    "## Step 4: calculate losspi,j"
   ]
  },
  {
   "cell_type": "code",
   "execution_count": 32,
   "metadata": {},
   "outputs": [],
   "source": [
    "def calc_loss_class(true_box_conf,CLASS_SCALE, true_box_class,pred_box_class):\n",
    "    '''\n",
    "    == input ==    \n",
    "    true_box_conf  : tensor of shape (N batch, N grid h, N grid w, N anchor)\n",
    "    true_box_class : tensor of shape (N batch, N grid h, N grid w, N anchor), containing class index\n",
    "    pred_box_class : tensor of shape (N batch, N grid h, N grid w, N anchor, N class)\n",
    "    CLASS_SCALE    : 1.0\n",
    "    \n",
    "    == output ==  \n",
    "    class_mask\n",
    "    if object exists in this (grid_cell, anchor) pair and the class object receive nonzero weight\n",
    "        class_mask[iframe,igridy,igridx,ianchor] = 1 \n",
    "    else: \n",
    "        0 \n",
    "    '''   \n",
    "    class_mask   = true_box_conf  * CLASS_SCALE ## L_{i,j}^obj * lambda_class\n",
    "    \n",
    "    nb_class_box = tf.reduce_sum(tf.cast(class_mask > 0.0, tf.float32))\n",
    "    loss_class   = tf.nn.sparse_softmax_cross_entropy_with_logits(labels = true_box_class, \n",
    "                                                                  logits = pred_box_class)\n",
    "    loss_class   = tf.reduce_sum(loss_class * class_mask) / (nb_class_box + 1e-6)   \n",
    "    return loss_class"
   ]
  },
  {
   "cell_type": "code",
   "execution_count": 33,
   "metadata": {},
   "outputs": [
    {
     "name": "stdout",
     "output_type": "stream",
     "text": [
      "******************************\n",
      "ouput\n",
      "******************************\n",
      "loss_class = 2.997\n"
     ]
    }
   ],
   "source": [
    "LAMBDA_CLASS   = 1\n",
    "loss_class  = calc_loss_class(true_box_conf,LAMBDA_CLASS,\n",
    "                                 true_box_class,pred_box_class)\n",
    "print(\"*\"*30 + \"\\nouput\\n\" + \"*\"*30) \n",
    "print(\"loss_class = {:4.3f}\".format(loss_class))"
   ]
  },
  {
   "cell_type": "markdown",
   "metadata": {},
   "source": [
    "## Step 5, calculate IOUground truthi,j ; preduictioni,j"
   ]
  },
  {
   "cell_type": "code",
   "execution_count": 34,
   "metadata": {},
   "outputs": [],
   "source": [
    "def get_intersect_area(true_xy,true_wh,\n",
    "                       pred_xy,pred_wh):\n",
    "    '''\n",
    "    == INPUT ==\n",
    "    true_xy,pred_xy, true_wh and pred_wh must have the same shape length\n",
    "\n",
    "    p1 : pred_mins = (px1,py1)\n",
    "    p2 : pred_maxs = (px2,py2)\n",
    "    t1 : true_mins = (tx1,ty1) \n",
    "    t2 : true_maxs = (tx2,ty2) \n",
    "                 p1______________________ \n",
    "                 |      t1___________   |\n",
    "                 |       |           |  |\n",
    "                 |_______|___________|__|p2 \n",
    "                         |           |rmax\n",
    "                         |___________|\n",
    "                                      t2\n",
    "    intersect_mins : rmin = t1  = (tx1,ty1)\n",
    "    intersect_maxs : rmax = (rmaxx,rmaxy)\n",
    "    intersect_wh   : (rmaxx - tx1, rmaxy - ty1)\n",
    "        \n",
    "    '''\n",
    "    true_wh_half = true_wh / 2.\n",
    "    true_mins    = true_xy - true_wh_half\n",
    "    true_maxes   = true_xy + true_wh_half\n",
    "    \n",
    "    pred_wh_half = pred_wh / 2.\n",
    "    pred_mins    = pred_xy - pred_wh_half\n",
    "    pred_maxes   = pred_xy + pred_wh_half    \n",
    "    \n",
    "    intersect_mins  = tf.maximum(pred_mins,  true_mins)\n",
    "    intersect_maxes = tf.minimum(pred_maxes, true_maxes)\n",
    "    intersect_wh    = tf.maximum(intersect_maxes - intersect_mins, 0.)\n",
    "    intersect_areas = intersect_wh[..., 0] * intersect_wh[..., 1]\n",
    "    \n",
    "    true_areas = true_wh[..., 0] * true_wh[..., 1]\n",
    "    pred_areas = pred_wh[..., 0] * pred_wh[..., 1]\n",
    "\n",
    "    union_areas = pred_areas + true_areas - intersect_areas\n",
    "    iou_scores  = tf.truediv(intersect_areas, union_areas)    \n",
    "    return iou_scores\n",
    "\n",
    "def calc_IOU_pred_true_assigned(true_box_conf,\n",
    "                                true_box_xy, true_box_wh,\n",
    "                                pred_box_xy,  pred_box_wh):\n",
    "    ''' \n",
    "    == input ==\n",
    "    \n",
    "    true_box_conf : tensor of shape (N batch, N grid h, N grid w, N anchor )\n",
    "    true_box_xy   : tensor of shape (N batch, N grid h, N grid w, N anchor , 2)\n",
    "    true_box_wh   : tensor of shape (N batch, N grid h, N grid w, N anchor , 2)\n",
    "    pred_box_xy   : tensor of shape (N batch, N grid h, N grid w, N anchor , 2)\n",
    "    pred_box_wh   : tensor of shape (N batch, N grid h, N grid w, N anchor , 2)\n",
    "        \n",
    "    == output ==\n",
    "    \n",
    "    true_box_conf : tensor of shape (N batch, N grid h, N grid w, N anchor)\n",
    "    \n",
    "    true_box_conf value depends on the predicted values \n",
    "    true_box_conf = IOU_{true,pred} if objecte exist in this anchor else 0\n",
    "    '''\n",
    "    iou_scores        =  get_intersect_area(true_box_xy,true_box_wh,\n",
    "                                            pred_box_xy,pred_box_wh)\n",
    "    true_box_conf_IOU = iou_scores * true_box_conf\n",
    "    return true_box_conf_IOU"
   ]
  },
  {
   "cell_type": "code",
   "execution_count": 37,
   "metadata": {},
   "outputs": [
    {
     "name": "stdout",
     "output_type": "stream",
     "text": [
      "true_box_conf_IOU.shape = (2, 13, 13, 4)\n"
     ]
    },
    {
     "data": {
      "image/png": "[encoded data removed]",
      "text/plain": [
       "<Figure size 432x288 with 1 Axes>"
      ]
     },
     "metadata": {
      "needs_background": "light"
     },
     "output_type": "display_data"
    }
   ],
   "source": [
    "# Experiment calc_IOU_pred_true_assigned\n",
    "\n",
    "true_box_conf_IOU = calc_IOU_pred_true_assigned(\n",
    "                            true_box_conf,\n",
    "                            true_box_xy, true_box_wh,\n",
    "                            pred_box_xy,  pred_box_wh)\n",
    "\n",
    "# print(\"*\"*30 + \"\\ninput\\n\" + \"*\"*30)    \n",
    "# print(\"true_box_conf = {}\".format(true_box_conf))\n",
    "# print(\"true_box_xy   = {}\".format(true_box_xy))\n",
    "# print(\"true_box_wh   = {}\".format(true_box_wh))\n",
    "# print(\"pred_box_xy   = {}\".format(pred_box_xy))\n",
    "# print(\"pred_box_wh   = {}\".format(pred_box_wh))\n",
    "# print(\"*\"*30 + \"\\nouput\\n\" + \"*\"*30) \n",
    "print(\"true_box_conf_IOU.shape = {}\".format(true_box_conf_IOU.shape))\n",
    "vec  = true_box_conf_IOU\n",
    "pick = vec!=0\n",
    "vec  = vec[pick]\n",
    "plt.hist(vec)\n",
    "plt.title(\"Histogram\\nN (%) nonzero true_box_conf_IOU = {} ({:5.2f}%)\".format(np.sum(pick),\n",
    "                                                             100*np.mean(pick)))\n",
    "plt.xlabel(\"nonzero true_box_conf_IOU\")\n",
    "plt.show()"
   ]
  },
  {
   "cell_type": "markdown",
   "metadata": {},
   "source": [
    "## Step 6: Calculate $\\text{max}_{i',j'}"
   ]
  },
  {
   "cell_type": "code",
   "execution_count": 39,
   "metadata": {},
   "outputs": [],
   "source": [
    "def calc_IOU_pred_true_best(pred_box_xy,pred_box_wh,true_boxes):   \n",
    "    '''\n",
    "    == input ==\n",
    "    pred_box_xy : tensor of shape (N batch, N grid h, N grid w, N anchor, 2)\n",
    "    pred_box_wh : tensor of shape (N batch, N grid h, N grid w, N anchor, 2)\n",
    "    true_boxes  : tensor of shape (N batch, N grid h, N grid w, N anchor, 2)\n",
    "    \n",
    "    == output == \n",
    "    \n",
    "    best_ious\n",
    "    \n",
    "    for each iframe,\n",
    "        best_ious[iframe,igridy,igridx,ianchor] contains\n",
    "        \n",
    "        the IOU of the object that is most likely included (or best fitted) \n",
    "        within the bounded box recorded in (grid_cell, anchor) pair\n",
    "        \n",
    "        NOTE: a same object may be contained in multiple (grid_cell, anchor) pair\n",
    "              from best_ious, you cannot tell how may actual objects are captured as the \"best\" object\n",
    "    '''\n",
    "    true_xy = true_boxes[..., 0:2]           # (N batch, 1, 1, 1, TRUE_BOX_BUFFER, 2)\n",
    "    true_wh = true_boxes[..., 2:4]           # (N batch, 1, 1, 1, TRUE_BOX_BUFFER, 2)\n",
    "    \n",
    "    pred_xy = tf.expand_dims(pred_box_xy, 4) # (N batch, N grid_h, N grid_w, N anchor, 1, 2)\n",
    "    pred_wh = tf.expand_dims(pred_box_wh, 4) # (N batch, N grid_h, N grid_w, N anchor, 1, 2)\n",
    "    \n",
    "    iou_scores  =  get_intersect_area(true_xy,\n",
    "                                      true_wh,\n",
    "                                      pred_xy,\n",
    "                                      pred_wh) # (N batch, N grid_h, N grid_w, N anchor, 50)   \n",
    "\n",
    "    best_ious = tf.reduce_max(iou_scores, axis=4) # (N batch, N grid_h, N grid_w, N anchor)\n",
    "    return best_ious"
   ]
  },
  {
   "cell_type": "code",
   "execution_count": 41,
   "metadata": {},
   "outputs": [
    {
     "name": "stdout",
     "output_type": "stream",
     "text": [
      "best_ious.shape = (2, 13, 13, 4)\n"
     ]
    },
    {
     "data": {
      "image/png": "[encoded data removed]",
      "text/plain": [
       "<Figure size 432x288 with 1 Axes>"
      ]
     },
     "metadata": {
      "needs_background": "light"
     },
     "output_type": "display_data"
    }
   ],
   "source": [
    "# Experiment calc_IOU_pred_true_best\n",
    "\n",
    "true_boxes = tf.constant(b_batch,dtype=\"float32\")\n",
    "best_ious = calc_IOU_pred_true_best(pred_box_xy,\n",
    "                                       pred_box_wh,\n",
    "                                       true_boxes)\n",
    "    \n",
    "# print(\"*\"*30 + \"\\ninput\\n\" + \"*\"*30)    \n",
    "# print(\"true_box_wh   = {}\".format(true_box_wh))\n",
    "# print(\"pred_box_xy   = {}\".format(pred_box_xy))\n",
    "# print(\"pred_box_wh   = {}\".format(pred_box_wh))\n",
    "# print(\"*\"*30 + \"\\nouput\\n\" + \"*\"*30) \n",
    "print(\"best_ious.shape = {}\".format(best_ious.shape))\n",
    "vec  = best_ious\n",
    "pick = vec!=0\n",
    "vec  = vec[pick]\n",
    "plt.hist(vec)\n",
    "plt.title(\"Histogram\\nN (%) nonzero best_ious = {} ({:5.2f}%)\".format(np.sum(pick),\n",
    "                                                             100*np.mean(pick)))\n",
    "plt.xlabel(\"nonzero best_ious\")\n",
    "plt.show()"
   ]
  },
  {
   "cell_type": "code",
   "execution_count": 42,
   "metadata": {},
   "outputs": [],
   "source": [
    "def get_conf_mask(best_ious, true_box_conf, true_box_conf_IOU,LAMBDA_NO_OBJECT, LAMBDA_OBJECT):    \n",
    "    '''\n",
    "    == input == \n",
    "    \n",
    "    best_ious           : tensor of shape (Nbatch, N grid h, N grid w, N anchor)\n",
    "    true_box_conf       : tensor of shape (Nbatch, N grid h, N grid w, N anchor)\n",
    "    true_box_conf_IOU   : tensor of shape (Nbatch, N grid h, N grid w, N anchor)\n",
    "    LAMBDA_NO_OBJECT    : 1.0\n",
    "    LAMBDA_OBJECT       : 5.0\n",
    "    \n",
    "    == output ==\n",
    "    conf_mask : tensor of shape (Nbatch, N grid h, N grid w, N anchor)\n",
    "    \n",
    "    conf_mask[iframe, igridy, igridx, ianchor] = 0\n",
    "               when there is no object assigned in (grid cell, anchor) pair and the region seems useless i.e. \n",
    "               y_true[iframe,igridx,igridy,4] = 0 \"and\" the predicted region has no object that has IoU > 0.6\n",
    "               \n",
    "    conf_mask[iframe, igridy, igridx, ianchor] =  NO_OBJECT_SCALE\n",
    "               when there is no object assigned in (grid cell, anchor) pair but region seems to include some object\n",
    "               y_true[iframe,igridx,igridy,4] = 0 \"and\" the predicted region has some object that has IoU > 0.6\n",
    "               \n",
    "    conf_mask[iframe, igridy, igridx, ianchor] =  OBJECT_SCALE\n",
    "              when there is an object in (grid cell, anchor) pair        \n",
    "    '''\n",
    "\n",
    "    conf_mask = tf.cast(best_ious < 0.6, tf.float32) * (1 - true_box_conf) * LAMBDA_NO_OBJECT\n",
    "    # penalize the confidence of the boxes, which are reponsible for corresponding ground truth box\n",
    "    conf_mask = conf_mask + true_box_conf_IOU * LAMBDA_OBJECT\n",
    "    return conf_mask"
   ]
  },
  {
   "cell_type": "code",
   "execution_count": 44,
   "metadata": {},
   "outputs": [
    {
     "name": "stdout",
     "output_type": "stream",
     "text": [
      "******************************\n",
      "output\n",
      "******************************\n",
      "conf_mask shape = (2, 13, 13, 4)\n"
     ]
    }
   ],
   "source": [
    "# Experiment get_conf_mask\n",
    "\n",
    "conf_mask = get_conf_mask(best_ious, \n",
    "                             true_box_conf, \n",
    "                             true_box_conf_IOU,\n",
    "                             LAMBDA_NO_OBJECT, \n",
    "                             LAMBDA_OBJECT)\n",
    "# print(\"*\"*30 + \"\\ninput\\n\" + \"*\"*30)  \n",
    "# print(\"best_ious         = {}\".format(best_ious)) \n",
    "# print(\"true_box_conf     = {}\".format(true_box_conf))\n",
    "# print(\"true_box_conf_IOU = {}\".format(true_box_conf_IOU))\n",
    "# print(\"LAMBDA_NO_OBJECT  = {}\".format(LAMBDA_NO_OBJECT)) \n",
    "# print(\"LAMBDA_OBJECT     = {}\".format(LAMBDA_OBJECT))\n",
    "\n",
    "print(\"*\"*30 + \"\\noutput\\n\" + \"*\"*30)      \n",
    "print(\"conf_mask shape = {}\".format(conf_mask.shape))"
   ]
  },
  {
   "cell_type": "markdown",
   "metadata": {},
   "source": [
    "## Step 8: Calculate loss for the confidence lossci,j"
   ]
  },
  {
   "cell_type": "code",
   "execution_count": 45,
   "metadata": {},
   "outputs": [],
   "source": [
    "def calc_loss_conf(conf_mask,true_box_conf_IOU, pred_box_conf):  \n",
    "    '''\n",
    "    == input ==\n",
    "    \n",
    "    conf_mask         : tensor of shape (Nbatch, N grid h, N grid w, N anchor)\n",
    "    true_box_conf_IOU : tensor of shape (Nbatch, N grid h, N grid w, N anchor)\n",
    "    pred_box_conf     : tensor of shape (Nbatch, N grid h, N grid w, N anchor)\n",
    "    '''\n",
    "    # the number of (grid cell, anchor) pair that has an assigned object or\n",
    "    # that has no assigned object but some objects may be in bounding box.\n",
    "    # N conf\n",
    "    nb_conf_box  = tf.reduce_sum(tf.cast(conf_mask  > 0.0, tf.float32))\n",
    "    loss_conf    = tf.reduce_sum(tf.square(true_box_conf_IOU-pred_box_conf) * conf_mask)  / (nb_conf_box  + 1e-6) / 2.\n",
    "    return loss_conf"
   ]
  },
  {
   "cell_type": "code",
   "execution_count": 47,
   "metadata": {},
   "outputs": [
    {
     "name": "stdout",
     "output_type": "stream",
     "text": [
      "******************************\n",
      "output\n",
      "******************************\n",
      "loss_conf = 0.1246\n"
     ]
    }
   ],
   "source": [
    "# Experiment calc_loss_conf\n",
    "\n",
    "# print(\"*\"*30 + \"\\ninput\\n\" + \"*\"*30)  \n",
    "# print(\"conf_mask         = {}\".format(conf_mask)) \n",
    "# print(\"true_box_conf_IOU = {}\".format(true_box_conf_IOU))\n",
    "# print(\"pred_box_conf     = {}\".format(pred_box_conf))\n",
    "\n",
    "loss_conf = calc_loss_conf(conf_mask,true_box_conf_IOU, pred_box_conf)\n",
    "    \n",
    "print(\"*\"*30 + \"\\noutput\\n\" + \"*\"*30)      \n",
    "print(\"loss_conf = {:5.4f}\".format(loss_conf))"
   ]
  },
  {
   "cell_type": "markdown",
   "metadata": {},
   "source": [
    "## custom_loss(y_true,y_pred)"
   ]
  },
  {
   "cell_type": "code",
   "execution_count": 48,
   "metadata": {},
   "outputs": [],
   "source": [
    "def custom_loss(y_true, y_pred):\n",
    "    '''\n",
    "    y_true : (N batch, N grid h, N grid w, N anchor, 4 + 1 + N classes)\n",
    "    y_true[irow, i_gridh, i_gridw, i_anchor, :4] = center_x, center_y, w, h\n",
    "    \n",
    "        center_x : The x coordinate center of the bounding box.\n",
    "                   Rescaled to range between 0 and N gird  w (e.g., ranging between [0,13)\n",
    "        center_y : The y coordinate center of the bounding box.\n",
    "                   Rescaled to range between 0 and N gird  h (e.g., ranging between [0,13)\n",
    "        w        : The width of the bounding box.\n",
    "                   Rescaled to range between 0 and N gird  w (e.g., ranging between [0,13)\n",
    "        h        : The height of the bounding box.\n",
    "                   Rescaled to range between 0 and N gird  h (e.g., ranging between [0,13)\n",
    "                   \n",
    "    y_true[irow, i_gridh, i_gridw, i_anchor, 4] = ground truth confidence\n",
    "        \n",
    "        ground truth confidence is 1 if object exists in this (anchor box, gird cell) pair\n",
    "    \n",
    "    y_true[irow, i_gridh, i_gridw, i_anchor, 5 + iclass] = 1 if the object is in category  else 0\n",
    "        \n",
    "    '''\n",
    "    total_recall = tf.Variable(0.)\n",
    "    \n",
    "    # Step 1: Adjust prediction output\n",
    "    cell_grid   = get_cell_grid(GRID_W,GRID_H,BATCH_SIZE,BOX)\n",
    "    pred_box_xy, pred_box_wh, pred_box_conf, pred_box_class = adjust_scale_prediction(y_pred,cell_grid,ANCHORS)\n",
    "    # Step 2: Extract ground truth output\n",
    "    true_box_xy, true_box_wh, true_box_conf, true_box_class = extract_ground_truth(y_true)\n",
    "    # Step 3: Calculate loss for the bounding box parameters\n",
    "    loss_xywh, coord_mask = calc_loss_xywh(true_box_conf,LAMBDA_COORD,\n",
    "                                           true_box_xy, pred_box_xy,true_box_wh,pred_box_wh)\n",
    "    # Step 4: Calculate loss for the class probabilities\n",
    "    loss_class  = calc_loss_class(true_box_conf,LAMBDA_CLASS,\n",
    "                                   true_box_class,pred_box_class)\n",
    "    # Step 5: For each (grid cell, anchor) pair, \n",
    "    #         calculate the IoU between predicted and ground truth bounding box\n",
    "    true_box_conf_IOU = calc_IOU_pred_true_assigned(true_box_conf,\n",
    "                                                    true_box_xy, true_box_wh,\n",
    "                                                    pred_box_xy, pred_box_wh)\n",
    "    # Step 6: For each predicted bounded box from (grid cell, anchor box), \n",
    "    #         calculate the best IOU, regardless of the ground truth anchor box that each object gets assigned.\n",
    "    best_ious = calc_IOU_pred_true_best(pred_box_xy,pred_box_wh,true_boxes)\n",
    "    # Step 7: For each grid cell, calculate the L_{i,j}^{noobj}\n",
    "    conf_mask = get_conf_mask(best_ious, true_box_conf, true_box_conf_IOU,LAMBDA_NO_OBJECT, LAMBDA_OBJECT)\n",
    "    # Step 8: Calculate loss for the confidence\n",
    "    loss_conf = calc_loss_conf(conf_mask,true_box_conf_IOU, pred_box_conf)\n",
    "\n",
    "    \n",
    "    loss = loss_xywh + loss_conf + loss_class\n",
    "    \n",
    "\n",
    "    \n",
    "    return loss"
   ]
  },
  {
   "cell_type": "code",
   "execution_count": 49,
   "metadata": {},
   "outputs": [
    {
     "name": "stdout",
     "output_type": "stream",
     "text": [
      "float64 float64\n",
      "loss tf.Tensor(5.663559, shape=(), dtype=float32)\n"
     ]
    }
   ],
   "source": [
    "# Experiment custom_loss\n",
    "\n",
    "print(y_batch.dtype, y_pred.dtype)\n",
    "true_boxes = tf.Variable(np.zeros_like(b_batch), dtype=\"float32\")\n",
    "loss = custom_loss(y_batch.astype('float32'), y_pred.astype('float32')) \n",
    "print('loss', loss)"
   ]
  },
  {
   "cell_type": "code",
   "execution_count": null,
   "metadata": {},
   "outputs": [],
   "source": []
  }
 ],
 "metadata": {
  "kernelspec": {
   "display_name": "Yolo-TF2-VKR",
   "language": "python",
   "name": "yolo-tf2-vkr"
  },
  "language_info": {
   "codemirror_mode": {
    "name": "ipython",
    "version": 3
   },
   "file_extension": ".py",
   "mimetype": "text/x-python",
   "name": "python",
   "nbconvert_exporter": "python",
   "pygments_lexer": "ipython3",
   "version": "3.7.9"
  }
 },
 "nbformat": 4,
 "nbformat_minor": 4
}
